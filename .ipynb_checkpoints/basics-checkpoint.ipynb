{
 "cells": [
  {
   "cell_type": "code",
   "execution_count": 1,
   "id": "dc6e5138-7b10-49af-884e-776e5355bbb3",
   "metadata": {},
   "outputs": [
    {
     "name": "stdout",
     "output_type": "stream",
     "text": [
      "hello\n"
     ]
    }
   ],
   "source": [
    "print(\"hello\")"
   ]
  },
  {
   "cell_type": "code",
   "execution_count": 2,
   "id": "4645717c-7937-4d05-8aec-2a5150a3557e",
   "metadata": {},
   "outputs": [
    {
     "name": "stdout",
     "output_type": "stream",
     "text": [
      "X is greater than 5\n"
     ]
    }
   ],
   "source": [
    "x = 10\n",
    "\n",
    "if x > 5:\n",
    "    print(\"X is greater than 5\")\n",
    "else:\n",
    "    print(\"X is less than 5\")"
   ]
  },
  {
   "cell_type": "code",
   "execution_count": 3,
   "id": "fd79a39a-1ba6-4df5-9661-3cadb341f17d",
   "metadata": {},
   "outputs": [
    {
     "data": {
      "text/plain": [
       "5"
      ]
     },
     "execution_count": 3,
     "metadata": {},
     "output_type": "execute_result"
    }
   ],
   "source": [
    "def sum(a, b):\n",
    "    return a + b\n",
    "\n",
    "sum(2, 3)"
   ]
  },
  {
   "cell_type": "code",
   "execution_count": 2,
   "id": "d79305ad-67ae-4666-87c7-df96f20ed7de",
   "metadata": {},
   "outputs": [
    {
     "data": {
      "text/plain": [
       "'sachin morning'"
      ]
     },
     "execution_count": 2,
     "metadata": {},
     "output_type": "execute_result"
    }
   ],
   "source": [
    "def greet(name, greeting):\n",
    "    return f\"{name} {greeting}\"\n",
    "\n",
    "greet(\"sachin\", \"morning\")"
   ]
  },
  {
   "cell_type": "code",
   "execution_count": null,
   "id": "4e1d1df7-f25e-4a9b-beac-d9eebfae8e31",
   "metadata": {},
   "outputs": [],
   "source": []
  }
 ],
 "metadata": {
  "kernelspec": {
   "display_name": "Python 3 (ipykernel)",
   "language": "python",
   "name": "python3"
  },
  "language_info": {
   "codemirror_mode": {
    "name": "ipython",
    "version": 3
   },
   "file_extension": ".py",
   "mimetype": "text/x-python",
   "name": "python",
   "nbconvert_exporter": "python",
   "pygments_lexer": "ipython3",
   "version": "3.9.6"
  }
 },
 "nbformat": 4,
 "nbformat_minor": 5
}
