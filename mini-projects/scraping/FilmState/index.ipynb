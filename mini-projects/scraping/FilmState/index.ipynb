{
 "cells": [
  {
   "cell_type": "code",
   "execution_count": 1,
   "metadata": {},
   "outputs": [],
   "source": [
    "import pandas as pd\n",
    "from utils import ScrapeFilm\n",
    "\n",
    "scrape_film = ScrapeFilm()\n",
    "\n",
    "# Example usage\n",
    "search_term = \"Anurag Kashyap\"\n",
    "response = scrape_film.make_imdb_suggestion_api(search_term)\n",
    "\n",
    "# Get the first suggestion\n",
    "parsed_celeb = scrape_film.parse_imdb_suggestion_response(response)\n",
    "\n",
    "scrapped_celeb_details = scrape_film.scrape_celeb_details(parsed_celeb['id'])\n",
    "\n",
    "celeb_filmography = scrape_film.get_celeb_filmography(scrapped_celeb_details)\n",
    "\n",
    "role = 'producer'\n",
    "\n",
    "df = pd.DataFrame(celeb_filmography[role])\n",
    "\n",
    "# store in csv\n",
    "df.to_csv(\"celeb.csv\", index=False)"
   ]
  },
  {
   "cell_type": "code",
   "execution_count": null,
   "metadata": {},
   "outputs": [],
   "source": []
  }
 ],
 "metadata": {
  "kernelspec": {
   "display_name": "myenv",
   "language": "python",
   "name": "python3"
  },
  "language_info": {
   "codemirror_mode": {
    "name": "ipython",
    "version": 3
   },
   "file_extension": ".py",
   "mimetype": "text/x-python",
   "name": "python",
   "nbconvert_exporter": "python",
   "pygments_lexer": "ipython3",
   "version": "3.9.6"
  }
 },
 "nbformat": 4,
 "nbformat_minor": 2
}
