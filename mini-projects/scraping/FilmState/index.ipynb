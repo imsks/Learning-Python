{
 "cells": [
  {
   "cell_type": "code",
   "execution_count": null,
   "metadata": {},
   "outputs": [],
   "source": [
    "from utils import ScrapeFilm, PlotFilm\n",
    "\n",
    "# Example usage\n",
    "celeb_query = \"Imtiaz\"\n",
    "role = 'director'\n",
    "\n",
    "scrape_film = ScrapeFilm(celeb_query, role)\n",
    "\n",
    "scrapped_celeb_details = scrape_film.init_scrapping()\n",
    "\n",
    "# store in csv\n",
    "scrapped_celeb_details['df'].to_csv(\"celeb.csv\", index=False)\n",
    "\n",
    "plot_film = PlotFilm(scrapped_celeb_details['df'])\n",
    "plot_film.generate_scatter(scrapped_celeb_details['celeb_name'])\n"
   ]
  },
  {
   "cell_type": "code",
   "execution_count": null,
   "metadata": {},
   "outputs": [],
   "source": []
  }
 ],
 "metadata": {
  "kernelspec": {
   "display_name": "myenv",
   "language": "python",
   "name": "python3"
  },
  "language_info": {
   "codemirror_mode": {
    "name": "ipython",
    "version": 3
   },
   "file_extension": ".py",
   "mimetype": "text/x-python",
   "name": "python",
   "nbconvert_exporter": "python",
   "pygments_lexer": "ipython3",
   "version": "3.9.6"
  }
 },
 "nbformat": 4,
 "nbformat_minor": 2
}
