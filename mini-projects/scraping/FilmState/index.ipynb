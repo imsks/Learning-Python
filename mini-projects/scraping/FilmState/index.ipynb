{
 "cells": [
  {
   "cell_type": "code",
   "execution_count": 2,
   "metadata": {},
   "outputs": [],
   "source": [
    "import pandas as pd\n",
    "from utils import ScrapeFilm\n",
    "import matplotlib.pyplot as plt\n",
    "\n",
    "scrape_film = ScrapeFilm()\n",
    "\n",
    "# Example usage\n",
    "search_term = \"Imtiaz Ali\"\n",
    "response = scrape_film.make_imdb_suggestion_api(search_term)\n",
    "\n",
    "# Get the first suggestion\n",
    "parsed_celeb = scrape_film.parse_imdb_suggestion_response(response)\n",
    "\n",
    "scrapped_celeb_details = scrape_film.scrape_celeb_details(parsed_celeb['id'])\n",
    "\n",
    "celeb_filmography = scrape_film.get_celeb_filmography(scrapped_celeb_details)\n",
    "\n",
    "role = 'director'\n",
    "\n",
    "df = pd.DataFrame(celeb_filmography[role])\n",
    "\n",
    "# store in csv\n",
    "df.to_csv(\"celeb.csv\", index=False)\n",
    "\n",
    "# Assuming your DataFrame is named 'df' and you want to plot ratings vs. year\n",
    "plt.figure(figsize=(10, 6))  # Adjust figure size for better readability\n",
    "\n",
    "df_sorted = df.sort_values(by=\"ratings\", ascending=True)\n",
    "for i, row in df_sorted.iterrows():\n",
    "    plt.scatter(row['titles'], row[\"ratings\"], label=row[\"titles\"])\n",
    "\n",
    "plt.xlabel(\"Movie\")\n",
    "plt.ylabel(\"Rating\")\n",
    "plt.title(f\"{search_term} Movies\")\n",
    "plt.legend(title=\"Movie Titles\", loc='upper left', bbox_to_anchor=(1, 1))\n",
    "plt.xticks(rotation=45)\n",
    "plt.tight_layout()\n",
    "plt.show()\n"
   ]
  },
  {
   "cell_type": "code",
   "execution_count": null,
   "metadata": {},
   "outputs": [],
   "source": []
  }
 ],
 "metadata": {
  "kernelspec": {
   "display_name": "myenv",
   "language": "python",
   "name": "python3"
  },
  "language_info": {
   "codemirror_mode": {
    "name": "ipython",
    "version": 3
   },
   "file_extension": ".py",
   "mimetype": "text/x-python",
   "name": "python",
   "nbconvert_exporter": "python",
   "pygments_lexer": "ipython3",
   "version": "3.9.6"
  }
 },
 "nbformat": 4,
 "nbformat_minor": 2
}
