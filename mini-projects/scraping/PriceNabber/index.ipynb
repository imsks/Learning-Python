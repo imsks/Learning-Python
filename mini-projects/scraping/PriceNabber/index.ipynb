{
 "cells": [
  {
   "cell_type": "code",
   "execution_count": 3,
   "metadata": {},
   "outputs": [],
   "source": [
    "from utils import make_api, check_response, scrape_product_details\n",
    "import pandas as pd"
   ]
  },
  {
   "cell_type": "code",
   "execution_count": 9,
   "metadata": {},
   "outputs": [
    {
     "name": "stdout",
     "output_type": "stream",
     "text": [
      "                                                Name   Price\n",
      "0  Oneplus Nord CE4 (Dark Chrome, 8GB RAM, 128GB ...  24,998\n",
      "                                                Name   Price\n",
      "0  Oneplus Nord CE4 (Dark Chrome, 8GB RAM, 128GB ...  24,998\n"
     ]
    }
   ],
   "source": [
    "urls = [\"https://www.amazon.in/dp/B0CX59H5W7\", \"https://www.amazon.in/dp/B0CX59H5W7\"]\n",
    "\n",
    "for url in urls:\n",
    "    response = make_api(url)\n",
    "\n",
    "    html_content = check_response(response)\n",
    "\n",
    "    if html_content:\n",
    "        product_details = scrape_product_details(html_content)\n",
    "\n",
    "        df = pd.DataFrame(columns=['Name', 'Price'])\n",
    "\n",
    "        product_info = {\n",
    "            \"Name\": product_details[\"name\"],\n",
    "            \"Price\": product_details[\"price\"]\n",
    "        }\n",
    "\n",
    "        df = pd.concat([df, pd.DataFrame.from_dict([product_info])], ignore_index=True)\n",
    "\n",
    "        print(df)\n",
    "\n",
    "    else:\n",
    "        print(\"Failed to retrieve product information.\")\n"
   ]
  }
 ],
 "metadata": {
  "kernelspec": {
   "display_name": "myenv",
   "language": "python",
   "name": "python3"
  },
  "language_info": {
   "codemirror_mode": {
    "name": "ipython",
    "version": 3
   },
   "file_extension": ".py",
   "mimetype": "text/x-python",
   "name": "python",
   "nbconvert_exporter": "python",
   "pygments_lexer": "ipython3",
   "version": "3.9.6"
  }
 },
 "nbformat": 4,
 "nbformat_minor": 2
}
