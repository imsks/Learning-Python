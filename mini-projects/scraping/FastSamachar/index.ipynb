{
 "cells": [
  {
   "cell_type": "code",
   "execution_count": 1,
   "metadata": {},
   "outputs": [],
   "source": [
    "from utils import ScrapNews\n",
    "import pandas as pd\n",
    "import traceback"
   ]
  },
  {
   "cell_type": "code",
   "execution_count": 3,
   "metadata": {},
   "outputs": [],
   "source": [
    "sources = [\n",
    "     {\n",
    "        'name': 'TOI',\n",
    "        'url': 'https://timesofindia.indiatimes.com/',\n",
    "     }\n",
    "]\n",
    "scrape_news = ScrapNews()\n",
    "\n",
    "try:\n",
    "    for source in sources:\n",
    "        response = scrape_news.make_api(source['url'])\n",
    "\n",
    "        html_content = scrape_news.check_response(response)\n",
    "\n",
    "        if html_content:\n",
    "            news_sources = scrape_news.scrape_sources(html_content, source['name'])\n",
    "\n",
    "            df = pd.DataFrame()\n",
    "\n",
    "            for news_source in news_sources:\n",
    "                df = pd.concat([pd.DataFrame.from_dict(news_source)], ignore_index=True)\n",
    "\n",
    "            df.to_csv('news.csv', index=False)\n",
    "        else:\n",
    "            print(\"Failed to retrieve product information.\")\n",
    "except Exception as e:\n",
    "        print(traceback.print_exc())\n"
   ]
  },
  {
   "cell_type": "code",
   "execution_count": null,
   "metadata": {},
   "outputs": [],
   "source": []
  }
 ],
 "metadata": {
  "kernelspec": {
   "display_name": "myenv",
   "language": "python",
   "name": "python3"
  },
  "language_info": {
   "codemirror_mode": {
    "name": "ipython",
    "version": 3
   },
   "file_extension": ".py",
   "mimetype": "text/x-python",
   "name": "python",
   "nbconvert_exporter": "python",
   "pygments_lexer": "ipython3",
   "version": "3.9.6"
  }
 },
 "nbformat": 4,
 "nbformat_minor": 2
}
