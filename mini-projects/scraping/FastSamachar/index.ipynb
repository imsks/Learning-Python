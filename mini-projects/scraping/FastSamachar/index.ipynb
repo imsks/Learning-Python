{
 "cells": [
  {
   "cell_type": "code",
   "execution_count": 1,
   "metadata": {},
   "outputs": [],
   "source": [
    "from utils import make_api, check_response, scrape_news\n",
    "import pandas as pd\n",
    "import traceback\n"
   ]
  },
  {
   "cell_type": "code",
   "execution_count": 2,
   "metadata": {},
   "outputs": [
    {
     "name": "stdout",
     "output_type": "stream",
     "text": [
      "  Title Link Cover                                             titles  \\\n",
      "0   NaN  NaN   NaN  [China conducts biggest ‘blockade’ drills arou...   \n",
      "\n",
      "                                               links  \\\n",
      "0  [https://timesofindia.indiatimes.com/world/res...   \n",
      "\n",
      "                                              covers  \n",
      "0  [https://static.toiimg.com/thumb/imgsize-12010...  \n"
     ]
    }
   ],
   "source": [
    "\n",
    "\n",
    "urls = [\"https://timesofindia.indiatimes.com\"]\n",
    "\n",
    "try:\n",
    "    for url in urls:\n",
    "        response = make_api(url)\n",
    "\n",
    "        html_content = check_response(response)\n",
    "\n",
    "        if html_content:\n",
    "            news_details = scrape_news(html_content)\n",
    "\n",
    "            df = pd.DataFrame(columns=['Title', 'Link', 'Cover'])\n",
    "            df = pd.concat([df, pd.DataFrame.from_dict([news_details])], ignore_index=True)\n",
    "\n",
    "            print(df)\n",
    "        else:\n",
    "            print(\"Failed to retrieve product information.\")\n",
    "except Exception as e:\n",
    "        print(traceback.print_exc())\n"
   ]
  },
  {
   "cell_type": "code",
   "execution_count": null,
   "metadata": {},
   "outputs": [],
   "source": []
  }
 ],
 "metadata": {
  "kernelspec": {
   "display_name": "myenv",
   "language": "python",
   "name": "python3"
  },
  "language_info": {
   "codemirror_mode": {
    "name": "ipython",
    "version": 3
   },
   "file_extension": ".py",
   "mimetype": "text/x-python",
   "name": "python",
   "nbconvert_exporter": "python",
   "pygments_lexer": "ipython3",
   "version": "3.9.6"
  }
 },
 "nbformat": 4,
 "nbformat_minor": 2
}
