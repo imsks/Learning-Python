{
 "cells": [
  {
   "cell_type": "code",
   "execution_count": null,
   "id": "c6c628ec-677a-49ca-89a4-1e7c5a2161fe",
   "metadata": {},
   "outputs": [],
   "source": [
    "import cv2\n",
    "import numpy as np\n",
    "\n",
    "image = cv2.imread(\"/Users/imsks/Downloads/test_meme.jpeg\")\n",
    "\n",
    "def update(value):\n",
    "    brightness = cv2.getTrackbarPos(\"Brightness\", \"EnhanceIt\")\n",
    "    blur = cv2.getTrackbarPos(\"Blur\", \"EnhanceIt\")\n",
    "\n",
    "    def adjust_image(image, brightness, blur):\n",
    "        adjusted_brightness = cv2.add(image, np.array([brightness, brightness, brightness], dtype=np.uint8))\n",
    "\n",
    "        blurred_image = cv2.blur(adjusted_brightness, (blur, blur))\n",
    "\n",
    "        return blurred_image\n",
    "\n",
    "    edited_image = adjust_image(image, brightness, blur)\n",
    "\n",
    "    cv2.imshow(\"EnhanceIt\", edited_image)\n",
    "\n",
    "cv2.namedWindow(\"EnhanceIt\")\n",
    "\n",
    "cv2.createTrackbar(\"Brightness\", \"EnhanceIt\", 0, 100, update)\n",
    "cv2.createTrackbar(\"Blur\", \"EnhanceIt\", 1, 11, update)\n",
    "\n",
    "update(0)\n",
    "\n",
    "cv2.waitKey(0)\n",
    "cv2.destroyAllWindows()"
   ]
  }
 ],
 "metadata": {
  "kernelspec": {
   "display_name": "Python 3 (ipykernel)",
   "language": "python",
   "name": "python3"
  },
  "language_info": {
   "codemirror_mode": {
    "name": "ipython",
    "version": 3
   },
   "file_extension": ".py",
   "mimetype": "text/x-python",
   "name": "python",
   "nbconvert_exporter": "python",
   "pygments_lexer": "ipython3",
   "version": "3.9.6"
  }
 },
 "nbformat": 4,
 "nbformat_minor": 5
}
