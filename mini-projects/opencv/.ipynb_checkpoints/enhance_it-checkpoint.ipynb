{
 "cells": [
  {
   "cell_type": "code",
   "execution_count": null,
   "id": "39713f1d-930f-4d47-9700-cf62ad0673c5",
   "metadata": {},
   "outputs": [
    {
     "name": "stderr",
     "output_type": "stream",
     "text": [
      "2024-05-14 08:03:32.457 Python[22689:303085] WARNING: Secure coding is automatically enabled for restorable state! However, not on all supported macOS versions of this application. Opt-in to secure coding explicitly by implementing NSApplicationDelegate.applicationSupportsSecureRestorableState:.\n"
     ]
    }
   ],
   "source": [
    "import cv2\n",
    "import numpy as np\n",
    "import traceback\n",
    "\n",
    "try:\n",
    "\n",
    "    image = cv2.imread(\"/Users/imsks/Downloads/test_meme.jpeg\")\n",
    "\n",
    "    def update(value):\n",
    "        brightness = cv2.getTrackbarPos(\"Brightness\", \"EnhanceIt\")\n",
    "        blur = cv2.getTrackbarPos(\"Blur\", \"EnhanceIt\")\n",
    "\n",
    "        def adjust_image(image, brightness, blur):\n",
    "            brightness_clipped = np.clip(brightness, 0, 255)  # Clip brightness to valid uint8 range (0-255)\n",
    "            adjusted_brightness = cv2.add(image, np.array([brightness_clipped, brightness_clipped, brightness_clipped], dtype=np.uint8))\n",
    "            blurred_image = cv2.blur(adjusted_brightness, (blur, blur))\n",
    "\n",
    "            return blurred_image\n",
    "\n",
    "        edited_image = adjust_image(image, brightness, blur)\n",
    "\n",
    "        cv2.imshow(\"EnhanceIt\", edited_image)\n",
    "\n",
    "    cv2.createTrackbar(\"Brightness\", \"EnhanceIt\", 0, 100, update)\n",
    "    cv2.createTrackbar(\"Blur\", \"EnhanceIt\", 1, 11, update)\n",
    "\n",
    "    update(0)\n",
    "\n",
    "    cv2.namedWindow(\"EnhanceIt\")\n",
    "\n",
    "    cv2.waitKey(0)\n",
    "    cv2.destroyAllWindows()\n",
    "except Exception as e:\n",
    "    print(traceback.print_exc())\n"
   ]
  }
 ],
 "metadata": {
  "kernelspec": {
   "display_name": "Python 3 (ipykernel)",
   "language": "python",
   "name": "python3"
  },
  "language_info": {
   "codemirror_mode": {
    "name": "ipython",
    "version": 3
   },
   "file_extension": ".py",
   "mimetype": "text/x-python",
   "name": "python",
   "nbconvert_exporter": "python",
   "pygments_lexer": "ipython3",
   "version": "3.9.6"
  }
 },
 "nbformat": 4,
 "nbformat_minor": 5
}
