{
 "cells": [
  {
   "cell_type": "code",
   "execution_count": null,
   "id": "f951bfb9-55b6-44d1-9e45-bc5ce23d3d01",
   "metadata": {},
   "outputs": [
    {
     "name": "stderr",
     "output_type": "stream",
     "text": [
      "2024-05-09 08:23:12.364 Python[23891:471642] WARNING: Secure coding is automatically enabled for restorable state! However, not on all supported macOS versions of this application. Opt-in to secure coding explicitly by implementing NSApplicationDelegate.applicationSupportsSecureRestorableState:.\n"
     ]
    }
   ],
   "source": [
    "import cv2\n",
    "import numpy as np\n",
    "\n",
    "image = cv2.imread(\"/Users/imsks/Downloads/test_meme.jpeg\")\n",
    "\n",
    "if image is None:\n",
    "    print(\"Cound't Read the Image\")\n",
    "    exit()\n",
    "\n",
    "grey = cv2.cvtColor(image, cv2.COLOR_RGB2GRAY)\n",
    "grey_3_channel = cv2.cvtColor(grey, cv2.COLOR_GRAY2BGR)\n",
    "\n",
    "numpy_horizontal_concat = np.concatenate((image, grey_3_channel), axis=1)\n",
    "\n",
    "cv2.imshow('Numpy Horizontal Concat', numpy_horizontal_concat)\n",
    "\n",
    "cv2.waitKey(0)\n",
    "cv2.destroyAllWindows()"
   ]
  }
 ],
 "metadata": {
  "kernelspec": {
   "display_name": "Python 3 (ipykernel)",
   "language": "python",
   "name": "python3"
  },
  "language_info": {
   "codemirror_mode": {
    "name": "ipython",
    "version": 3
   },
   "file_extension": ".py",
   "mimetype": "text/x-python",
   "name": "python",
   "nbconvert_exporter": "python",
   "pygments_lexer": "ipython3",
   "version": "3.9.6"
  }
 },
 "nbformat": 4,
 "nbformat_minor": 5
}
