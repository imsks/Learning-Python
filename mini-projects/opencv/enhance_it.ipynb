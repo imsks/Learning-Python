{
 "cells": [
  {
   "cell_type": "code",
   "execution_count": 9,
   "id": "39713f1d-930f-4d47-9700-cf62ad0673c5",
   "metadata": {},
   "outputs": [
    {
     "name": "stdout",
     "output_type": "stream",
     "text": [
      "None\n"
     ]
    },
    {
     "name": "stderr",
     "output_type": "stream",
     "text": [
      "Traceback (most recent call last):\n",
      "  File \"/var/folders/77/4v4826r95v3dmc8hb5s9h9th0000gn/T/ipykernel_22587/143792191.py\", line 26, in <module>\n",
      "    update(0)\n",
      "  File \"/var/folders/77/4v4826r95v3dmc8hb5s9h9th0000gn/T/ipykernel_22587/143792191.py\", line 19, in update\n",
      "    edited_image = adjust_image(image, brightness, blur)\n",
      "  File \"/var/folders/77/4v4826r95v3dmc8hb5s9h9th0000gn/T/ipykernel_22587/143792191.py\", line 15, in adjust_image\n",
      "    blurred_image = cv2.blur(adjusted_brightness, (blur, blur))\n",
      "cv2.error: OpenCV(4.9.0) /Users/xperience/GHA-OpenCV-Python2/_work/opencv-python/opencv-python/opencv/modules/imgproc/src/filter.dispatch.cpp:146: error: (-215:Assertion failed) 0 <= anchor.x && anchor.x < ksize.width && 0 <= anchor.y && anchor.y < ksize.height in function 'init'\n",
      "\n"
     ]
    }
   ],
   "source": [
    "import cv2\n",
    "import numpy as np\n",
    "import traceback\n",
    "\n",
    "try:\n",
    "    image = cv2.imread(\"/Users/imsks/Downloads/test_meme.jpeg\")\n",
    "\n",
    "    def update(value):\n",
    "        brightness = cv2.getTrackbarPos(\"Brightness\", \"EnhanceIt\")\n",
    "        blur = cv2.getTrackbarPos(\"Blur\", \"EnhanceIt\")\n",
    "\n",
    "        def adjust_image(image, brightness, blur):\n",
    "            adjusted_brightness = cv2.add(image, np.array([brightness, brightness, brightness], dtype='float64'))\n",
    "\n",
    "            blurred_image = cv2.blur(adjusted_brightness, (blur, blur))\n",
    "\n",
    "            return blurred_image\n",
    "\n",
    "        edited_image = adjust_image(image, brightness, blur)\n",
    "\n",
    "        cv2.imshow(\"EnhanceIt\", edited_image)\n",
    "\n",
    "    cv2.createTrackbar(\"Brightness\", \"EnhanceIt\", 0, 100, update)\n",
    "    cv2.createTrackbar(\"Blur\", \"EnhanceIt\", 1, 11, update)\n",
    "\n",
    "    update(0)\n",
    "\n",
    "    cv2.namedWindow(\"EnhanceIt\")\n",
    "\n",
    "    cv2.waitKey(0)\n",
    "    cv2.destroyAllWindows()\n",
    "except Exception as e:\n",
    "    print(traceback.print_exc())\n"
   ]
  }
 ],
 "metadata": {
  "kernelspec": {
   "display_name": "Python 3 (ipykernel)",
   "language": "python",
   "name": "python3"
  },
  "language_info": {
   "codemirror_mode": {
    "name": "ipython",
    "version": 3
   },
   "file_extension": ".py",
   "mimetype": "text/x-python",
   "name": "python",
   "nbconvert_exporter": "python",
   "pygments_lexer": "ipython3",
   "version": "3.9.6"
  }
 },
 "nbformat": 4,
 "nbformat_minor": 5
}
