{
 "cells": [
  {
   "cell_type": "code",
   "execution_count": null,
   "metadata": {},
   "outputs": [],
   "source": [
    "import pandas as pd\n",
    "import matplotlib.pyplot as plt\n",
    "\n",
    "# Read the xlsx file\n",
    "data_path = \"dealers.xlsx\"  # Replace with your actual file path\n",
    "df = pd.read_excel(data_path)\n",
    "\n",
    "# Create Heatmap\n",
    "def create_heatmap(df):\n",
    "    # Select the columns you want for the heatmap\n",
    "    data = df[['Dealer Name in Hyderabad region ', 'Sec Vol Kgs', 'Address ', 'Area ', 'Pincode  ']]\n",
    "\n",
    "    plt.figure(figsize=(10, 6))  # Adjust the figure size as needed\n",
    "    plt.pcolor(data[[\"Sec Vol Kgs\"]], vmin=0, vmax=data[\"Sec Vol Kgs\"].max())  # Use only Sec Vol Kgs\n",
    "    plt.xlabel(\"Dealer Name in Hyderabad region\")  # Might not be ideal (see below)\n",
    "    plt.ylabel(\"Sec Vol Kgs\")\n",
    "    plt.title(\"Heatmap of Sales by Dealer (Hyderabad)\")\n",
    "    plt.colorbar(label=\"Sales (kgs)\")\n",
    "    plt.tight_layout()\n",
    "    plt.show()\n",
    "\n",
    "# Create Bar Chart\n",
    "def create_bar_chart(df):\n",
    "    # Select the columns you want for the bar chart\n",
    "    data = df[['Dealer Name in Hyderabad region ', 'Sec Vol Kgs', 'Address ', 'Area ', 'Pincode  ']]\n",
    "\n",
    "    plt.bar(data[\"Dealer Name in Hyderabad region \"], data[\"Sec Vol Kgs\"])\n",
    "    plt.xlabel(\"Dealer Name in Hyderabad region\")\n",
    "    plt.ylabel(\"Sec Vol Kgs\")\n",
    "    plt.title(\"Sales by Dealer (Hyderabad)\")\n",
    "    plt.xticks(rotation=90)  # Rotate x-axis labels\n",
    "    plt.tight_layout()\n",
    "    plt.show()\n",
    "\n",
    "# Create Scatter Plot\n",
    "def create_scatter_plot(df):\n",
    "    # Select the columns you want for the scatter plot\n",
    "    data = df[['Dealer Name in Hyderabad region ', 'Sec Vol Kgs', 'Address ', 'Area ', 'Pincode  ']]\n",
    "\n",
    "    plt.scatter(data[\"Dealer Name in Hyderabad region \"], data[\"Sec Vol Kgs\"])\n",
    "    plt.xlabel(\"Dealer Name in Hyderabad region\")\n",
    "    plt.ylabel(\"Sec Vol Kgs\")\n",
    "    plt.title(\"Sales by Dealer (Hyderabad)\")\n",
    "    plt.xticks(rotation=90)  # Rotate x-axis labels\n",
    "    plt.tight_layout()\n",
    "    plt.show()\n",
    "\n",
    "create_heatmap(df)\n",
    "create_bar_chart(df)\n",
    "create_scatter_plot(df)\n"
   ]
  }
 ],
 "metadata": {
  "kernelspec": {
   "display_name": "myenv",
   "language": "python",
   "name": "python3"
  },
  "language_info": {
   "codemirror_mode": {
    "name": "ipython",
    "version": 3
   },
   "file_extension": ".py",
   "mimetype": "text/x-python",
   "name": "python",
   "nbconvert_exporter": "python",
   "pygments_lexer": "ipython3",
   "version": "3.9.6"
  }
 },
 "nbformat": 4,
 "nbformat_minor": 2
}
