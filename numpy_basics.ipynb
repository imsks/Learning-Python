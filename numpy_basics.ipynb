{
 "cells": [
  {
   "cell_type": "code",
   "execution_count": 4,
   "id": "fcdc7108-e184-4e7f-946d-08b558842ec2",
   "metadata": {},
   "outputs": [],
   "source": [
    "import numpy as np"
   ]
  },
  {
   "cell_type": "code",
   "execution_count": 4,
   "id": "b38b845d-42b7-46c5-95e5-2d1b2a7e32c4",
   "metadata": {},
   "outputs": [
    {
     "name": "stdout",
     "output_type": "stream",
     "text": [
      "[1 2 3 4 5]\n"
     ]
    }
   ],
   "source": [
    "array = np.array([1, 2, 3, 4, 5])\n",
    "print(array)"
   ]
  },
  {
   "cell_type": "code",
   "execution_count": 5,
   "id": "47d19d4c-ca0d-4c4d-88e5-e5434c0c1132",
   "metadata": {},
   "outputs": [
    {
     "name": "stdout",
     "output_type": "stream",
     "text": [
      "[1.+2.j 3.+4.j]\n"
     ]
    }
   ],
   "source": [
    "complex_array = np.array([1 + 2j, 3 + 4j], dtype=complex)\n",
    "print(complex_array)"
   ]
  },
  {
   "cell_type": "code",
   "execution_count": 6,
   "id": "6fadcff6-9376-4964-9ad7-2d25adaa95d8",
   "metadata": {},
   "outputs": [
    {
     "name": "stdout",
     "output_type": "stream",
     "text": [
      "[2 3 4]\n"
     ]
    }
   ],
   "source": [
    "sub_array = array[1:4]\n",
    "print(sub_array)"
   ]
  },
  {
   "cell_type": "code",
   "execution_count": 13,
   "id": "0c1aa935-d404-4391-b595-de97bad4d8bb",
   "metadata": {},
   "outputs": [
    {
     "name": "stdout",
     "output_type": "stream",
     "text": [
      "[5 7 9]\n"
     ]
    }
   ],
   "source": [
    "arr1 = np.array([1, 2, 3])\n",
    "arr2 = np.array([4, 5, 6])\n",
    "sum_array = arr1 + arr2\n",
    "print(sum_array)"
   ]
  },
  {
   "cell_type": "code",
   "execution_count": 14,
   "id": "4088db7b-7651-4ef7-a46a-097debc2eac9",
   "metadata": {},
   "outputs": [
    {
     "name": "stdout",
     "output_type": "stream",
     "text": [
      "[30 40]\n"
     ]
    }
   ],
   "source": [
    "arr = np.array([10, 20, 30, 40])\n",
    "filtered_array = arr[arr > 25]\n",
    "print(filtered_array)"
   ]
  },
  {
   "cell_type": "code",
   "execution_count": 8,
   "id": "ae5845ab-636d-458d-b6d8-7a84a8a6e8b9",
   "metadata": {},
   "outputs": [
    {
     "name": "stdout",
     "output_type": "stream",
     "text": [
      "10\n"
     ]
    }
   ],
   "source": [
    "first_element = arr[0]\n",
    "print(first_element)"
   ]
  },
  {
   "cell_type": "code",
   "execution_count": 10,
   "id": "9d7d1d7e-d2e9-468c-81ea-3e53a478517e",
   "metadata": {},
   "outputs": [
    {
     "name": "stdout",
     "output_type": "stream",
     "text": [
      "[[ True False  True]\n",
      " [False  True  True]]\n"
     ]
    }
   ],
   "source": [
    "math_scores = np.array([85, 72, 90])\n",
    "science_scores = np.array([78, 88, 95])\n",
    "average_scores = np.array([75, 85])\n",
    "\n",
    "passed_in_subjects = np.vstack((math_scores > average_scores[0], science_scores > average_scores[1]))\n",
    "print(passed_in_subjects)"
   ]
  },
  {
   "cell_type": "code",
   "execution_count": 43,
   "id": "30062c64-f263-462e-9df2-15962ccbe78a",
   "metadata": {},
   "outputs": [
    {
     "name": "stdout",
     "output_type": "stream",
     "text": [
      "[[0.38277389 0.74033765 0.74405532]\n",
      " [0.00925658 0.72314896 0.29130825]]\n"
     ]
    }
   ],
   "source": [
    "random_numbers = np.random.rand(2, 3)\n",
    "print(random_numbers)"
   ]
  },
  {
   "cell_type": "code",
   "execution_count": 45,
   "id": "aeb4c19b-0c3a-46cf-9a93-9f399a5abb59",
   "metadata": {},
   "outputs": [
    {
     "name": "stdout",
     "output_type": "stream",
     "text": [
      "[[-0.22277191  0.86547509 -1.44766311]\n",
      " [ 1.52860917  1.27335359  0.28155573]]\n"
     ]
    }
   ],
   "source": [
    "normal_data = np.random.randn(2, 3)\n",
    "print(normal_data)"
   ]
  }
 ],
 "metadata": {
  "kernelspec": {
   "display_name": "Python 3 (ipykernel)",
   "language": "python",
   "name": "python3"
  },
  "language_info": {
   "codemirror_mode": {
    "name": "ipython",
    "version": 3
   },
   "file_extension": ".py",
   "mimetype": "text/x-python",
   "name": "python",
   "nbconvert_exporter": "python",
   "pygments_lexer": "ipython3",
   "version": "3.9.6"
  }
 },
 "nbformat": 4,
 "nbformat_minor": 5
}
